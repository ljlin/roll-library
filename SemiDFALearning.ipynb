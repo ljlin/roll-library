{
 "cells": [
  {
   "cell_type": "markdown",
   "metadata": {},
   "source": [
    "# Semi-Interactive DFA Learning"
   ]
  },
  {
   "cell_type": "markdown",
   "metadata": {},
   "source": [
    "*April 2018 PMC@ISCAS*\n",
    "\n",
    "---"
   ]
  },
  {
   "cell_type": "markdown",
   "metadata": {},
   "source": [
    "![logo](http://iscasmc.ios.ac.cn/roll/lib/exe/fetch.php?media=wiki:logo.png)"
   ]
  },
  {
   "cell_type": "markdown",
   "metadata": {},
   "source": [
    "This is a tutorial and demonstration of our Java Library [```Regular Omega Language Learning (ROLL)```](http://iscasmc.ios.ac.cn/roll/doku.php) in a Groovy kernel Jupyter Notebook.You do not need to worry if you use Java and not familiar with Groovy. Because the syntax of these two languages are similar.\n",
    "\n",
    "In this notebook you will see \n",
    "- how to write an function that answers membership query\n",
    "- how to configure a Semi-Interactive learning process\n",
    "- how to print the intermediate hypothesis and learner data structure in this hyper text environment\n",
    "- how to create counter examples and use them to refine current hypothesis\n",
    "- how to interactive with learning process \n",
    "\n",
    "You can run this tutorial step by step, or you can run your code and see what will happend.\n",
    "\n",
    "**Tips** : If something goes strange, just use the menu bar above ```Kernel -> Restart & Clear Output``` to rebot this notebook.\n",
    "\n",
    "---"
   ]
  },
  {
   "cell_type": "markdown",
   "metadata": {},
   "source": [
    "**First we load our compiled single fat jar.**"
   ]
  },
  {
   "cell_type": "code",
   "execution_count": 1,
   "metadata": {},
   "outputs": [
    {
     "name": "stdout",
     "output_type": "stream",
     "text": [
      "Added jar: [ROLL.jar]\n"
     ]
    }
   ],
   "source": [
    "%classpath add jar ROLL.jar"
   ]
  },
  {
   "cell_type": "markdown",
   "metadata": {},
   "source": [
    "**Chose an regular language in your mind**\n",
    "\n",
    "For example, here we choose $\\{ a^n \\cdot b^m \\mid n \\ge 0 \\text{ and } m \\ge 1\\}$."
   ]
  },
  {
   "cell_type": "markdown",
   "metadata": {},
   "source": [
    "**Then we creat the alphabet object $\\{a, b\\}$ of your target language**"
   ]
  },
  {
   "cell_type": "code",
   "execution_count": 2,
   "metadata": {},
   "outputs": [
    {
     "data": {
      "text/plain": [
       "roll.words.Alphabet@7b9f603d"
      ]
     },
     "execution_count": 2,
     "metadata": {},
     "output_type": "execute_result"
    }
   ],
   "source": [
    "import roll.words.Alphabet\n",
    "\n",
    "alphabet = new Alphabet();\n",
    "alphabet.addLetter((char)'a');\n",
    "alphabet.addLetter((char)'b');\n",
    "\n",
    "alphabet"
   ]
  },
  {
   "cell_type": "markdown",
   "metadata": {},
   "source": [
    "**And write a piece of code to answer the membership querry of your target language**\n"
   ]
  },
  {
   "cell_type": "code",
   "execution_count": 3,
   "metadata": {},
   "outputs": [
    {
     "data": {
      "text/plain": [
       "script1524229644979499446995$_run_closure1@4cc649f2"
      ]
     },
     "execution_count": 3,
     "metadata": {},
     "output_type": "execute_result"
    }
   ],
   "source": [
    "memberAnswer_astartbplus = { w -> \n",
    "    boolean visb = false;\n",
    "    for (int i = 0; i < w.length(); i++) {\n",
    "        if (w.charAt(i) == 'a' && visb) {\n",
    "            return false;\n",
    "        } else if (w.charAt(i) == 'b') {\n",
    "                visb = true;\n",
    "        }\n",
    "    }\n",
    "    return visb;\n",
    "};"
   ]
  },
  {
   "cell_type": "markdown",
   "metadata": {},
   "source": [
    "You should guarantee that your implemention is consistent by your self. \n",
    "\n",
    "We can test it with several example:"
   ]
  },
  {
   "cell_type": "code",
   "execution_count": 4,
   "metadata": {},
   "outputs": [
    {
     "name": "stdout",
     "output_type": "stream",
     "text": [
      "false\n",
      "false\n",
      "false\n",
      "false\n",
      "true\n",
      "true\n"
     ]
    },
    {
     "data": {
      "text/plain": [
       "null"
      ]
     },
     "execution_count": 4,
     "metadata": {},
     "output_type": "execute_result"
    }
   ],
   "source": [
    "System.out.println(memberAnswer_astartbplus(\"\"))\n",
    "System.out.println(memberAnswer_astartbplus(\"a\"))\n",
    "System.out.println(memberAnswer_astartbplus(\"ba\"))\n",
    "System.out.println(memberAnswer_astartbplus(\"aba\"))\n",
    "\n",
    "System.out.println(memberAnswer_astartbplus(\"b\"))\n",
    "System.out.println(memberAnswer_astartbplus(\"abbbbb\"))"
   ]
  },
  {
   "cell_type": "markdown",
   "metadata": {},
   "source": [
    "**Second we create an ```Options``` object to configure the learning process** \n",
    "\n",
    "For DFA we have 3 kinds of algorithm and 2 kinds data structure. But there are only 4 valid composition.\n",
    "\n",
    "|                              | Options.Structure.TREE | Options.Structure.TABLE |\n",
    "|:----------------------------:|:----------------------:|:-----------------------:|\n",
    "| Options.Algorithm.DFA_LSTAR  | ✖️                     | ✔️                      |\n",
    "| Options.Algorithm.DFA_KV     | ✔️                     | ✖️                      |\n",
    "| Options.Algorithm.DFA_COLUMN | ✔️                     | ✔️                      |\n",
    "\n",
    "Here we use a table based column algorithm as a demonstration."
   ]
  },
  {
   "cell_type": "code",
   "execution_count": 5,
   "metadata": {},
   "outputs": [
    {
     "data": {
      "text/plain": [
       "LEARNING,TABLE,DFA_COLUMN,NONE,NBA,UNDER,verbose=false,bs=false,dot=false,inputfile=null,outputfile=null,outputA=null,outputB=null\n"
      ]
     },
     "execution_count": 5,
     "metadata": {},
     "output_type": "execute_result"
    }
   ],
   "source": [
    "import roll.main.*\n",
    "\n",
    "options = new Options();\n",
    "options.algorithm = Options.Algorithm.DFA_COLUMN;\n",
    "options.structure = Options.Structure.TABLE;\n",
    "options"
   ]
  },
  {
   "cell_type": "markdown",
   "metadata": {},
   "source": [
    "**Then we create a SemiLearning process**\n",
    "\n",
    "\n",
    "```SemiLearning(alphabet,options,functor)``` takes three arguments. ```alphabet``` is the alphabet of your target language. ```options``` configures wichi type of learning algorithm will be used. ```functor``` is a ```Function<String,Boolean>``` instance as membership oracle."
   ]
  },
  {
   "cell_type": "code",
   "execution_count": 6,
   "metadata": {},
   "outputs": [
    {
     "data": {
      "text/plain": [
       "roll.main.SemiLearning@7f49dc50"
      ]
     },
     "execution_count": 6,
     "metadata": {},
     "output_type": "execute_result"
    }
   ],
   "source": [
    "import roll.main.*\n",
    "import java.util.function.Function;\n",
    "\n",
    "Function<String,Boolean> functor = memberAnswer_astartbplus\n",
    "l0 = new SemiLearning(alphabet,options,functor)"
   ]
  },
  {
   "cell_type": "code",
   "execution_count": 7,
   "metadata": {},
   "outputs": [
    {
     "data": {
      "text/html": [
       "<?xml version=\"1.0\" encoding=\"UTF-8\" standalone=\"no\"?><!DOCTYPE svg PUBLIC \"-//W3C//DTD SVG 1.1//EN\" \"http://www.w3.org/Graphics/SVG/1.1/DTD/svg11.dtd\"><!-- Generated by graphviz version 2.38.0 (20140413.2041) --><!-- Title: %3 Pages: 1 --><svg width=\"82pt\" height=\"211pt\" viewBox=\"0.00 0.00 82.00 211.00\" xmlns=\"http://www.w3.org/2000/svg\" xmlns:xlink=\"http://www.w3.org/1999/xlink\"><g id=\"graph0\" class=\"graph\" transform=\"scale(1 1) rotate(0) translate(4 207)\"><title>%3</title><polygon fill=\"white\" stroke=\"none\" points=\"-4,4 -4,-207 78,-207 78,4 -4,4\"/><!-- 0 --><g id=\"node1\" class=\"node\"><title>0</title><ellipse fill=\"orangered\" stroke=\"black\" cx=\"27\" cy=\"-112\" rx=\"18\" ry=\"18\"/><text text-anchor=\"middle\" x=\"27\" y=\"-107.8\" font-family=\"Times,serif\" font-size=\"14.00\">0</text></g><!-- 0&#45;&gt;0 --><g id=\"edge1\" class=\"edge\"><title>0&#45;&gt;0</title><path fill=\"none\" stroke=\"black\" d=\"M44.0373,-118.379C53.8579,-119.681 63,-117.555 63,-112 63,-108.528 59.4289,-106.396 54.3529,-105.602\"/><polygon fill=\"black\" stroke=\"black\" points=\"54.031,-102.103 44.0373,-105.621 54.0435,-109.103 54.031,-102.103\"/><text text-anchor=\"middle\" x=\"66.5\" y=\"-107.8\" font-family=\"Times,serif\" font-size=\"14.00\">0</text></g><!-- 1 --><g id=\"node2\" class=\"node\"><title>1</title><ellipse fill=\"none\" stroke=\"black\" cx=\"27\" cy=\"-22\" rx=\"18\" ry=\"18\"/><ellipse fill=\"none\" stroke=\"black\" cx=\"27\" cy=\"-22\" rx=\"22\" ry=\"22\"/><text text-anchor=\"middle\" x=\"27\" y=\"-17.8\" font-family=\"Times,serif\" font-size=\"14.00\">1</text></g><!-- 0&#45;&gt;1 --><g id=\"edge2\" class=\"edge\"><title>0&#45;&gt;1</title><path fill=\"none\" stroke=\"black\" d=\"M20.3664,-95.2577C18.201,-89.3321 16.0772,-82.4629 15,-76 13.7059,-68.2354 14.5301,-59.902 16.2293,-52.1955\"/><polygon fill=\"black\" stroke=\"black\" points=\"19.6119,-53.0945 18.8624,-42.5262 12.8578,-51.2552 19.6119,-53.0945\"/><text text-anchor=\"middle\" x=\"18.5\" y=\"-64.8\" font-family=\"Times,serif\" font-size=\"14.00\">1</text></g><!-- 1&#45;&gt;0 --><g id=\"edge3\" class=\"edge\"><title>1&#45;&gt;0</title><path fill=\"none\" stroke=\"black\" d=\"M27,-44.0747C27,-55.9055 27,-70.8045 27,-83.54\"/><polygon fill=\"black\" stroke=\"black\" points=\"23.5001,-83.614 27,-93.614 30.5001,-83.6141 23.5001,-83.614\"/><text text-anchor=\"middle\" x=\"30.5\" y=\"-64.8\" font-family=\"Times,serif\" font-size=\"14.00\">0</text></g><!-- 1&#45;&gt;1 --><g id=\"edge4\" class=\"edge\"><title>1&#45;&gt;1</title><path fill=\"none\" stroke=\"black\" d=\"M47.5808,-30.3702C57.8447,-31.5284 67,-28.7383 67,-22 67,-17.6833 63.2427,-14.9869 57.8436,-13.9109\"/><polygon fill=\"black\" stroke=\"black\" points=\"57.6729,-10.405 47.5808,-13.6298 57.4812,-17.4024 57.6729,-10.405\"/><text text-anchor=\"middle\" x=\"70.5\" y=\"-17.8\" font-family=\"Times,serif\" font-size=\"14.00\">1</text></g><!-- 2 --><g id=\"node3\" class=\"node\"><title>2</title></g><!-- 2&#45;&gt;0 --><g id=\"edge5\" class=\"edge\"><title>2&#45;&gt;0</title><path fill=\"none\" stroke=\"black\" d=\"M27,-166.813C27,-158.789 27,-149.047 27,-140.069\"/><polygon fill=\"black\" stroke=\"black\" points=\"30.5001,-140.029 27,-130.029 23.5001,-140.029 30.5001,-140.029\"/></g></g></svg>"
      ]
     },
     "execution_count": 7,
     "metadata": {},
     "output_type": "execute_result"
    }
   ],
   "source": [
    "l0.getHypothesis()"
   ]
  },
  {
   "cell_type": "markdown",
   "metadata": {},
   "source": [
    "We observed that $bab$ is in current hypothesis while it is not in our target language.\n",
    "\n",
    "So we create an counter example object and use it to refine current hypothesis."
   ]
  },
  {
   "cell_type": "code",
   "execution_count": 8,
   "metadata": {},
   "outputs": [
    {
     "data": {
      "text/html": [
       "<table border=\"1\" cellspacing=\"0\" bordercolor=\"#000000\"  style=\"border-collapse:collapse;\">\n",
       "  <tr>\n",
       "    <th> Previous Hypothesis</th>\n",
       "    <th> Current Hypothesis </th>\n",
       "  </tr>\n",
       "  <tr>\n",
       "    <td><?xml version=\"1.0\" encoding=\"UTF-8\" standalone=\"no\"?><!DOCTYPE svg PUBLIC \"-//W3C//DTD SVG 1.1//EN\" \"http://www.w3.org/Graphics/SVG/1.1/DTD/svg11.dtd\"><!-- Generated by graphviz version 2.38.0 (20140413.2041) --><!-- Title: %3 Pages: 1 --><svg width=\"82pt\" height=\"211pt\" viewBox=\"0.00 0.00 82.00 211.00\" xmlns=\"http://www.w3.org/2000/svg\" xmlns:xlink=\"http://www.w3.org/1999/xlink\"><g id=\"graph0\" class=\"graph\" transform=\"scale(1 1) rotate(0) translate(4 207)\"><title>%3</title><polygon fill=\"white\" stroke=\"none\" points=\"-4,4 -4,-207 78,-207 78,4 -4,4\"/><!-- 0 --><g id=\"node1\" class=\"node\"><title>0</title><ellipse fill=\"orangered\" stroke=\"black\" cx=\"27\" cy=\"-112\" rx=\"18\" ry=\"18\"/><text text-anchor=\"middle\" x=\"27\" y=\"-107.8\" font-family=\"Times,serif\" font-size=\"14.00\">0</text></g><!-- 0&#45;&gt;0 --><g id=\"edge1\" class=\"edge\"><title>0&#45;&gt;0</title><path fill=\"none\" stroke=\"black\" d=\"M44.0373,-118.379C53.8579,-119.681 63,-117.555 63,-112 63,-108.528 59.4289,-106.396 54.3529,-105.602\"/><polygon fill=\"black\" stroke=\"black\" points=\"54.031,-102.103 44.0373,-105.621 54.0435,-109.103 54.031,-102.103\"/><text text-anchor=\"middle\" x=\"66.5\" y=\"-107.8\" font-family=\"Times,serif\" font-size=\"14.00\">0</text></g><!-- 1 --><g id=\"node2\" class=\"node\"><title>1</title><ellipse fill=\"none\" stroke=\"black\" cx=\"27\" cy=\"-22\" rx=\"18\" ry=\"18\"/><ellipse fill=\"none\" stroke=\"black\" cx=\"27\" cy=\"-22\" rx=\"22\" ry=\"22\"/><text text-anchor=\"middle\" x=\"27\" y=\"-17.8\" font-family=\"Times,serif\" font-size=\"14.00\">1</text></g><!-- 0&#45;&gt;1 --><g id=\"edge2\" class=\"edge\"><title>0&#45;&gt;1</title><path fill=\"none\" stroke=\"black\" d=\"M20.3664,-95.2577C18.201,-89.3321 16.0772,-82.4629 15,-76 13.7059,-68.2354 14.5301,-59.902 16.2293,-52.1955\"/><polygon fill=\"black\" stroke=\"black\" points=\"19.6119,-53.0945 18.8624,-42.5262 12.8578,-51.2552 19.6119,-53.0945\"/><text text-anchor=\"middle\" x=\"18.5\" y=\"-64.8\" font-family=\"Times,serif\" font-size=\"14.00\">1</text></g><!-- 1&#45;&gt;0 --><g id=\"edge3\" class=\"edge\"><title>1&#45;&gt;0</title><path fill=\"none\" stroke=\"black\" d=\"M27,-44.0747C27,-55.9055 27,-70.8045 27,-83.54\"/><polygon fill=\"black\" stroke=\"black\" points=\"23.5001,-83.614 27,-93.614 30.5001,-83.6141 23.5001,-83.614\"/><text text-anchor=\"middle\" x=\"30.5\" y=\"-64.8\" font-family=\"Times,serif\" font-size=\"14.00\">0</text></g><!-- 1&#45;&gt;1 --><g id=\"edge4\" class=\"edge\"><title>1&#45;&gt;1</title><path fill=\"none\" stroke=\"black\" d=\"M47.5808,-30.3702C57.8447,-31.5284 67,-28.7383 67,-22 67,-17.6833 63.2427,-14.9869 57.8436,-13.9109\"/><polygon fill=\"black\" stroke=\"black\" points=\"57.6729,-10.405 47.5808,-13.6298 57.4812,-17.4024 57.6729,-10.405\"/><text text-anchor=\"middle\" x=\"70.5\" y=\"-17.8\" font-family=\"Times,serif\" font-size=\"14.00\">1</text></g><!-- 2 --><g id=\"node3\" class=\"node\"><title>2</title></g><!-- 2&#45;&gt;0 --><g id=\"edge5\" class=\"edge\"><title>2&#45;&gt;0</title><path fill=\"none\" stroke=\"black\" d=\"M27,-166.813C27,-158.789 27,-149.047 27,-140.069\"/><polygon fill=\"black\" stroke=\"black\" points=\"30.5001,-140.029 27,-130.029 23.5001,-140.029 30.5001,-140.029\"/></g></g></svg></td>\n",
       "    <td><?xml version=\"1.0\" encoding=\"UTF-8\" standalone=\"no\"?><!DOCTYPE svg PUBLIC \"-//W3C//DTD SVG 1.1//EN\" \"http://www.w3.org/Graphics/SVG/1.1/DTD/svg11.dtd\"><!-- Generated by graphviz version 2.38.0 (20140413.2041) --><!-- Title: %3 Pages: 1 --><svg width=\"103pt\" height=\"297pt\" viewBox=\"0.00 0.00 103.00 297.00\" xmlns=\"http://www.w3.org/2000/svg\" xmlns:xlink=\"http://www.w3.org/1999/xlink\"><g id=\"graph0\" class=\"graph\" transform=\"scale(1 1) rotate(0) translate(4 293)\"><title>%3</title><polygon fill=\"white\" stroke=\"none\" points=\"-4,4 -4,-293 99,-293 99,4 -4,4\"/><!-- 0 --><g id=\"node1\" class=\"node\"><title>0</title><ellipse fill=\"orangered\" stroke=\"black\" cx=\"27\" cy=\"-198\" rx=\"18\" ry=\"18\"/><text text-anchor=\"middle\" x=\"27\" y=\"-193.8\" font-family=\"Times,serif\" font-size=\"14.00\">0</text></g><!-- 0&#45;&gt;0 --><g id=\"edge1\" class=\"edge\"><title>0&#45;&gt;0</title><path fill=\"none\" stroke=\"black\" d=\"M44.0373,-204.379C53.8579,-205.681 63,-203.555 63,-198 63,-194.528 59.4289,-192.396 54.3529,-191.602\"/><polygon fill=\"black\" stroke=\"black\" points=\"54.031,-188.103 44.0373,-191.621 54.0435,-195.103 54.031,-188.103\"/><text text-anchor=\"middle\" x=\"66.5\" y=\"-193.8\" font-family=\"Times,serif\" font-size=\"14.00\">0</text></g><!-- 1 --><g id=\"node2\" class=\"node\"><title>1</title><ellipse fill=\"none\" stroke=\"black\" cx=\"27\" cy=\"-108\" rx=\"18\" ry=\"18\"/><ellipse fill=\"none\" stroke=\"black\" cx=\"27\" cy=\"-108\" rx=\"22\" ry=\"22\"/><text text-anchor=\"middle\" x=\"27\" y=\"-103.8\" font-family=\"Times,serif\" font-size=\"14.00\">1</text></g><!-- 0&#45;&gt;1 --><g id=\"edge2\" class=\"edge\"><title>0&#45;&gt;1</title><path fill=\"none\" stroke=\"black\" d=\"M27,-179.614C27,-168.389 27,-153.463 27,-140.226\"/><polygon fill=\"black\" stroke=\"black\" points=\"30.5001,-140.075 27,-130.075 23.5001,-140.075 30.5001,-140.075\"/><text text-anchor=\"middle\" x=\"30.5\" y=\"-150.8\" font-family=\"Times,serif\" font-size=\"14.00\">1</text></g><!-- 1&#45;&gt;1 --><g id=\"edge4\" class=\"edge\"><title>1&#45;&gt;1</title><path fill=\"none\" stroke=\"black\" d=\"M47.5808,-116.37C57.8447,-117.528 67,-114.738 67,-108 67,-103.683 63.2427,-100.987 57.8436,-99.9109\"/><polygon fill=\"black\" stroke=\"black\" points=\"57.6729,-96.405 47.5808,-99.6298 57.4812,-103.402 57.6729,-96.405\"/><text text-anchor=\"middle\" x=\"70.5\" y=\"-103.8\" font-family=\"Times,serif\" font-size=\"14.00\">1</text></g><!-- 2 --><g id=\"node3\" class=\"node\"><title>2</title><ellipse fill=\"skyblue\" stroke=\"black\" cx=\"27\" cy=\"-18\" rx=\"18\" ry=\"18\"/><text text-anchor=\"middle\" x=\"27\" y=\"-13.8\" font-family=\"Times,serif\" font-size=\"14.00\">2</text></g><!-- 1&#45;&gt;2 --><g id=\"edge3\" class=\"edge\"><title>1&#45;&gt;2</title><path fill=\"none\" stroke=\"black\" d=\"M27,-85.6977C27,-73.8552 27,-58.992 27,-46.3037\"/><polygon fill=\"black\" stroke=\"black\" points=\"30.5001,-46.2711 27,-36.2711 23.5001,-46.2712 30.5001,-46.2711\"/><text text-anchor=\"middle\" x=\"30.5\" y=\"-56.8\" font-family=\"Times,serif\" font-size=\"14.00\">0</text></g><!-- 2&#45;&gt;2 --><g id=\"edge5\" class=\"edge\"><title>2&#45;&gt;2</title><path fill=\"none\" stroke=\"black\" d=\"M44.7817,-21.775C54.3149,-22.4165 63,-21.1582 63,-18 63,-16.0755 59.7749,-14.8564 55.0981,-14.3429\"/><polygon fill=\"black\" stroke=\"black\" points=\"54.8211,-10.8396 44.7817,-14.225 54.741,-17.8391 54.8211,-10.8396\"/><text text-anchor=\"middle\" x=\"66.5\" y=\"-13.8\" font-family=\"Times,serif\" font-size=\"14.00\">0</text></g><!-- 2&#45;&gt;2 --><g id=\"edge6\" class=\"edge\"><title>2&#45;&gt;2</title><path fill=\"none\" stroke=\"black\" d=\"M44.1418,-24.1447C61.585,-27.7592 81,-25.7109 81,-18 81,-11.7951 68.4283,-9.25695 54.4287,-10.3855\"/><polygon fill=\"black\" stroke=\"black\" points=\"53.5461,-6.97599 44.1418,-11.8553 54.5363,-13.9056 53.5461,-6.97599\"/><text text-anchor=\"middle\" x=\"84.5\" y=\"-13.8\" font-family=\"Times,serif\" font-size=\"14.00\">1</text></g><!-- 3 --><g id=\"node4\" class=\"node\"><title>3</title></g><!-- 3&#45;&gt;0 --><g id=\"edge7\" class=\"edge\"><title>3&#45;&gt;0</title><path fill=\"none\" stroke=\"black\" d=\"M27,-252.813C27,-244.789 27,-235.047 27,-226.069\"/><polygon fill=\"black\" stroke=\"black\" points=\"30.5001,-226.029 27,-216.029 23.5001,-226.029 30.5001,-226.029\"/></g></g></svg></td>\n",
       "  </tr>\n",
       "</table>"
      ]
     },
     "execution_count": 8,
     "metadata": {},
     "output_type": "execute_result"
    }
   ],
   "source": [
    "import roll.query.CE\n",
    "counter_example = CE.withAlphabet(alphabet).finite(\"bab\")\n",
    "l0.refineHypothesis(counter_example)"
   ]
  },
  {
   "cell_type": "markdown",
   "metadata": {},
   "source": [
    "<span style=\"color:red\">**Tips:** ```refineHypothesis``` has side effect.</span>\n",
    "\n",
    "If you run code in last cell for twice, you will get an ```Exception``` since $bab$ is no longer being an valid counter example."
   ]
  },
  {
   "cell_type": "code",
   "execution_count": 9,
   "metadata": {},
   "outputs": [
    {
     "name": "stderr",
     "output_type": "stream",
     "text": [
      "Counter Example Error : bab:ϵ is neither in target or hypothesis.\n"
     ]
    },
    {
     "ename": "java.lang.Exception",
     "evalue": " Counter Example Error",
     "output_type": "error",
     "traceback": [
      "\u001b[0;31mjava.lang.Exception: Counter Example Error",
      "\u001b[0;31m\tat roll.main.SemiLearning.refineHypothesis(SemiLearning.java:52)",
      "\u001b[0;31m\tat roll.main.SemiLearning$refineHypothesis$0.call(Unknown Source)",
      "\u001b[0;31m\tat script15242296461549653788.run(script15242296461549653788.groovy:2)",
      "\u001b[0;31m\tat com.twosigma.beakerx.groovy.evaluator.GroovyCodeRunner.call(GroovyCodeRunner.java:72)",
      "\u001b[0;31m\tat com.twosigma.beakerx.groovy.evaluator.GroovyCodeRunner.call(GroovyCodeRunner.java:36)"
     ]
    }
   ],
   "source": [
    "import roll.query.CE\n",
    "l0.refineHypothesis(CE.withAlphabet(alphabet).finite(\"bab\"))"
   ]
  },
  {
   "cell_type": "markdown",
   "metadata": {},
   "source": [
    "---\n",
    "\n",
    "**Try another language on $\\{ a, b \\}$**\n",
    "\n",
    "For example, here we choose $\\{ w \\mid \\text{ the number of } a \\text{ occurs in } w \\text{ is odd and the number of } b \\text{ occurs in } w \\text{ is odd} \\}$.\n"
   ]
  },
  {
   "cell_type": "code",
   "execution_count": 10,
   "metadata": {},
   "outputs": [
    {
     "data": {
      "text/plain": [
       "script1524229646211939980920$_run_closure1@31ed8888"
      ]
     },
     "execution_count": 10,
     "metadata": {},
     "output_type": "execute_result"
    }
   ],
   "source": [
    "memberAnswer_aoddbodd = { w -> \n",
    "        long cntA = w.chars().filter({x -> x == 'a'}).count();\n",
    "        long cntB = w.chars().filter({x -> x == 'b'}).count();\n",
    "        return (cntA % 2 == 1) && (cntB % 2 == 1) && (cntA + cntB == w.length());\n",
    "}"
   ]
  },
  {
   "cell_type": "code",
   "execution_count": 11,
   "metadata": {},
   "outputs": [
    {
     "name": "stdout",
     "output_type": "stream",
     "text": [
      "false\n",
      "false\n",
      "false\n",
      "false\n",
      "true\n",
      "true\n"
     ]
    },
    {
     "data": {
      "text/plain": [
       "null"
      ]
     },
     "execution_count": 11,
     "metadata": {},
     "output_type": "execute_result"
    }
   ],
   "source": [
    "System.out.println(memberAnswer_aoddbodd(\"\"))\n",
    "System.out.println(memberAnswer_aoddbodd(\"a\"))\n",
    "System.out.println(memberAnswer_aoddbodd(\"b\"))\n",
    "System.out.println(memberAnswer_aoddbodd(\"abab\"))\n",
    "\n",
    "System.out.println(memberAnswer_aoddbodd(\"ab\"))\n",
    "System.out.println(memberAnswer_aoddbodd(\"abbbbb\"))"
   ]
  },
  {
   "cell_type": "code",
   "execution_count": 12,
   "metadata": {},
   "outputs": [
    {
     "data": {
      "text/plain": [
       "roll.main.SemiLearning@50207d0f"
      ]
     },
     "execution_count": 12,
     "metadata": {},
     "output_type": "execute_result"
    }
   ],
   "source": [
    "import roll.main.*\n",
    "import java.util.function.Function;\n",
    "\n",
    "Function<String,Boolean> functor = memberAnswer_aoddbodd;\n",
    "l1 = new SemiLearning(alphabet,options,functor)"
   ]
  },
  {
   "cell_type": "code",
   "execution_count": 13,
   "metadata": {},
   "outputs": [
    {
     "data": {
      "text/html": [
       "<?xml version=\"1.0\" encoding=\"UTF-8\" standalone=\"no\"?><!DOCTYPE svg PUBLIC \"-//W3C//DTD SVG 1.1//EN\" \"http://www.w3.org/Graphics/SVG/1.1/DTD/svg11.dtd\"><!-- Generated by graphviz version 2.38.0 (20140413.2041) --><!-- Title: %3 Pages: 1 --><svg width=\"103pt\" height=\"117pt\" viewBox=\"0.00 0.00 103.00 117.00\" xmlns=\"http://www.w3.org/2000/svg\" xmlns:xlink=\"http://www.w3.org/1999/xlink\"><g id=\"graph0\" class=\"graph\" transform=\"scale(1 1) rotate(0) translate(4 113)\"><title>%3</title><polygon fill=\"white\" stroke=\"none\" points=\"-4,4 -4,-113 99,-113 99,4 -4,4\"/><!-- 0 --><g id=\"node1\" class=\"node\"><title>0</title><ellipse fill=\"orangered\" stroke=\"black\" cx=\"27\" cy=\"-18\" rx=\"18\" ry=\"18\"/><text text-anchor=\"middle\" x=\"27\" y=\"-13.8\" font-family=\"Times,serif\" font-size=\"14.00\">0</text></g><!-- 0&#45;&gt;0 --><g id=\"edge1\" class=\"edge\"><title>0&#45;&gt;0</title><path fill=\"none\" stroke=\"black\" d=\"M44.7817,-21.2357C54.3149,-21.7856 63,-20.707 63,-18 63,-16.3504 59.7749,-15.3055 55.0981,-14.8653\"/><polygon fill=\"black\" stroke=\"black\" points=\"54.8156,-11.3625 44.7817,-14.7643 54.7469,-18.3621 54.8156,-11.3625\"/><text text-anchor=\"middle\" x=\"66.5\" y=\"-13.8\" font-family=\"Times,serif\" font-size=\"14.00\">0</text></g><!-- 0&#45;&gt;0 --><g id=\"edge2\" class=\"edge\"><title>0&#45;&gt;0</title><path fill=\"none\" stroke=\"black\" d=\"M44.4203,-23.3159C61.791,-26.3462 81,-24.5742 81,-18 81,-12.7098 68.5617,-10.5292 54.652,-11.4581\"/><polygon fill=\"black\" stroke=\"black\" points=\"53.9328,-8.01918 44.4203,-12.6841 54.7657,-14.9695 53.9328,-8.01918\"/><text text-anchor=\"middle\" x=\"84.5\" y=\"-13.8\" font-family=\"Times,serif\" font-size=\"14.00\">1</text></g><!-- 1 --><g id=\"node2\" class=\"node\"><title>1</title></g><!-- 1&#45;&gt;0 --><g id=\"edge3\" class=\"edge\"><title>1&#45;&gt;0</title><path fill=\"none\" stroke=\"black\" d=\"M27,-72.8129C27,-64.7895 27,-55.0475 27,-46.0691\"/><polygon fill=\"black\" stroke=\"black\" points=\"30.5001,-46.0288 27,-36.0288 23.5001,-46.0289 30.5001,-46.0288\"/></g></g></svg>"
      ]
     },
     "execution_count": 13,
     "metadata": {},
     "output_type": "execute_result"
    }
   ],
   "source": [
    "l1.getHypothesis()"
   ]
  },
  {
   "cell_type": "code",
   "execution_count": 14,
   "metadata": {},
   "outputs": [
    {
     "data": {
      "text/html": [
       "<table border=\"1\" cellspacing=\"0\" bordercolor=\"#000000\"  style=\"border-collapse:collapse;\">\n",
       "  <tr>\n",
       "    <th> Previous Hypothesis</th>\n",
       "    <th> Current Hypothesis </th>\n",
       "  </tr>\n",
       "  <tr>\n",
       "    <td><?xml version=\"1.0\" encoding=\"UTF-8\" standalone=\"no\"?><!DOCTYPE svg PUBLIC \"-//W3C//DTD SVG 1.1//EN\" \"http://www.w3.org/Graphics/SVG/1.1/DTD/svg11.dtd\"><!-- Generated by graphviz version 2.38.0 (20140413.2041) --><!-- Title: %3 Pages: 1 --><svg width=\"103pt\" height=\"117pt\" viewBox=\"0.00 0.00 103.00 117.00\" xmlns=\"http://www.w3.org/2000/svg\" xmlns:xlink=\"http://www.w3.org/1999/xlink\"><g id=\"graph0\" class=\"graph\" transform=\"scale(1 1) rotate(0) translate(4 113)\"><title>%3</title><polygon fill=\"white\" stroke=\"none\" points=\"-4,4 -4,-113 99,-113 99,4 -4,4\"/><!-- 0 --><g id=\"node1\" class=\"node\"><title>0</title><ellipse fill=\"orangered\" stroke=\"black\" cx=\"27\" cy=\"-18\" rx=\"18\" ry=\"18\"/><text text-anchor=\"middle\" x=\"27\" y=\"-13.8\" font-family=\"Times,serif\" font-size=\"14.00\">0</text></g><!-- 0&#45;&gt;0 --><g id=\"edge1\" class=\"edge\"><title>0&#45;&gt;0</title><path fill=\"none\" stroke=\"black\" d=\"M44.7817,-21.2357C54.3149,-21.7856 63,-20.707 63,-18 63,-16.3504 59.7749,-15.3055 55.0981,-14.8653\"/><polygon fill=\"black\" stroke=\"black\" points=\"54.8156,-11.3625 44.7817,-14.7643 54.7469,-18.3621 54.8156,-11.3625\"/><text text-anchor=\"middle\" x=\"66.5\" y=\"-13.8\" font-family=\"Times,serif\" font-size=\"14.00\">0</text></g><!-- 0&#45;&gt;0 --><g id=\"edge2\" class=\"edge\"><title>0&#45;&gt;0</title><path fill=\"none\" stroke=\"black\" d=\"M44.4203,-23.3159C61.791,-26.3462 81,-24.5742 81,-18 81,-12.7098 68.5617,-10.5292 54.652,-11.4581\"/><polygon fill=\"black\" stroke=\"black\" points=\"53.9328,-8.01918 44.4203,-12.6841 54.7657,-14.9695 53.9328,-8.01918\"/><text text-anchor=\"middle\" x=\"84.5\" y=\"-13.8\" font-family=\"Times,serif\" font-size=\"14.00\">1</text></g><!-- 1 --><g id=\"node2\" class=\"node\"><title>1</title></g><!-- 1&#45;&gt;0 --><g id=\"edge3\" class=\"edge\"><title>1&#45;&gt;0</title><path fill=\"none\" stroke=\"black\" d=\"M27,-72.8129C27,-64.7895 27,-55.0475 27,-46.0691\"/><polygon fill=\"black\" stroke=\"black\" points=\"30.5001,-46.0288 27,-36.0288 23.5001,-46.0289 30.5001,-46.0288\"/></g></g></svg></td>\n",
       "    <td><?xml version=\"1.0\" encoding=\"UTF-8\" standalone=\"no\"?><!DOCTYPE svg PUBLIC \"-//W3C//DTD SVG 1.1//EN\" \"http://www.w3.org/Graphics/SVG/1.1/DTD/svg11.dtd\"><!-- Generated by graphviz version 2.38.0 (20140413.2041) --><!-- Title: %3 Pages: 1 --><svg width=\"99pt\" height=\"297pt\" viewBox=\"0.00 0.00 99.00 297.00\" xmlns=\"http://www.w3.org/2000/svg\" xmlns:xlink=\"http://www.w3.org/1999/xlink\"><g id=\"graph0\" class=\"graph\" transform=\"scale(1 1) rotate(0) translate(4 293)\"><title>%3</title><polygon fill=\"white\" stroke=\"none\" points=\"-4,4 -4,-293 95,-293 95,4 -4,4\"/><!-- 0 --><g id=\"node1\" class=\"node\"><title>0</title><ellipse fill=\"orangered\" stroke=\"black\" cx=\"48\" cy=\"-198\" rx=\"18\" ry=\"18\"/><text text-anchor=\"middle\" x=\"48\" y=\"-193.8\" font-family=\"Times,serif\" font-size=\"14.00\">0</text></g><!-- 0&#45;&gt;0 --><g id=\"edge2\" class=\"edge\"><title>0&#45;&gt;0</title><path fill=\"none\" stroke=\"black\" d=\"M65.0373,-204.379C74.8579,-205.681 84,-203.555 84,-198 84,-194.528 80.4289,-192.396 75.3529,-191.602\"/><polygon fill=\"black\" stroke=\"black\" points=\"75.031,-188.103 65.0373,-191.621 75.0435,-195.103 75.031,-188.103\"/><text text-anchor=\"middle\" x=\"87.5\" y=\"-193.8\" font-family=\"Times,serif\" font-size=\"14.00\">1</text></g><!-- 1 --><g id=\"node2\" class=\"node\"><title>1</title><ellipse fill=\"skyblue\" stroke=\"black\" cx=\"18\" cy=\"-112\" rx=\"18\" ry=\"18\"/><text text-anchor=\"middle\" x=\"18\" y=\"-107.8\" font-family=\"Times,serif\" font-size=\"14.00\">1</text></g><!-- 0&#45;&gt;1 --><g id=\"edge1\" class=\"edge\"><title>0&#45;&gt;1</title><path fill=\"none\" stroke=\"black\" d=\"M35.6956,-184.844C30.1677,-178.577 24.1826,-170.478 21,-162 18.4643,-155.245 17.2776,-147.599 16.825,-140.391\"/><polygon fill=\"black\" stroke=\"black\" points=\"20.3223,-140.222 16.6154,-130.296 13.3238,-140.367 20.3223,-140.222\"/><text text-anchor=\"middle\" x=\"24.5\" y=\"-150.8\" font-family=\"Times,serif\" font-size=\"14.00\">0</text></g><!-- 1&#45;&gt;0 --><g id=\"edge3\" class=\"edge\"><title>1&#45;&gt;0</title><path fill=\"none\" stroke=\"black\" d=\"M23.7665,-129.146C27.9953,-140.987 33.8265,-157.314 38.7091,-170.985\"/><polygon fill=\"black\" stroke=\"black\" points=\"35.5562,-172.564 42.2157,-180.804 42.1484,-170.209 35.5562,-172.564\"/><text text-anchor=\"middle\" x=\"38.5\" y=\"-150.8\" font-family=\"Times,serif\" font-size=\"14.00\">0</text></g><!-- 2 --><g id=\"node3\" class=\"node\"><title>2</title><ellipse fill=\"none\" stroke=\"black\" cx=\"48\" cy=\"-22\" rx=\"18\" ry=\"18\"/><ellipse fill=\"none\" stroke=\"black\" cx=\"48\" cy=\"-22\" rx=\"22\" ry=\"22\"/><text text-anchor=\"middle\" x=\"48\" y=\"-17.8\" font-family=\"Times,serif\" font-size=\"14.00\">2</text></g><!-- 1&#45;&gt;2 --><g id=\"edge4\" class=\"edge\"><title>1&#45;&gt;2</title><path fill=\"none\" stroke=\"black\" d=\"M16.8168,-93.7763C16.7045,-84.1764 17.4862,-72.1477 21,-62 22.7405,-56.9735 25.3217,-52.0006 28.2084,-47.3743\"/><polygon fill=\"black\" stroke=\"black\" points=\"31.2,-49.2013 33.9957,-38.982 25.4373,-45.2274 31.2,-49.2013\"/><text text-anchor=\"middle\" x=\"24.5\" y=\"-64.8\" font-family=\"Times,serif\" font-size=\"14.00\">1</text></g><!-- 2&#45;&gt;0 --><g id=\"edge5\" class=\"edge\"><title>2&#45;&gt;0</title><path fill=\"none\" stroke=\"black\" d=\"M48,-44.0981C48,-75.5795 48,-134.86 48,-169.636\"/><polygon fill=\"black\" stroke=\"black\" points=\"44.5001,-169.999 48,-179.999 51.5001,-169.999 44.5001,-169.999\"/><text text-anchor=\"middle\" x=\"51.5\" y=\"-107.8\" font-family=\"Times,serif\" font-size=\"14.00\">0</text></g><!-- 2&#45;&gt;1 --><g id=\"edge6\" class=\"edge\"><title>2&#45;&gt;1</title><path fill=\"none\" stroke=\"black\" d=\"M41.1632,-43.0546C36.9013,-55.5562 31.3751,-71.7665 26.7893,-85.2179\"/><polygon fill=\"black\" stroke=\"black\" points=\"23.4165,-84.265 23.5025,-94.8594 30.0421,-86.5237 23.4165,-84.265\"/><text text-anchor=\"middle\" x=\"37.5\" y=\"-64.8\" font-family=\"Times,serif\" font-size=\"14.00\">1</text></g><!-- 3 --><g id=\"node4\" class=\"node\"><title>3</title></g><!-- 3&#45;&gt;0 --><g id=\"edge7\" class=\"edge\"><title>3&#45;&gt;0</title><path fill=\"none\" stroke=\"black\" d=\"M48,-252.813C48,-244.789 48,-235.047 48,-226.069\"/><polygon fill=\"black\" stroke=\"black\" points=\"51.5001,-226.029 48,-216.029 44.5001,-226.029 51.5001,-226.029\"/></g></g></svg></td>\n",
       "  </tr>\n",
       "</table>"
      ]
     },
     "execution_count": 14,
     "metadata": {},
     "output_type": "execute_result"
    }
   ],
   "source": [
    "import roll.query.CE\n",
    "l1.refineHypothesis(CE.withAlphabet(alphabet).finite(\"ab\"))"
   ]
  },
  {
   "cell_type": "code",
   "execution_count": 15,
   "metadata": {},
   "outputs": [
    {
     "data": {
      "text/html": [
       "<table border=\"1\" cellspacing=\"0\" bordercolor=\"#000000\"  style=\"border-collapse:collapse;\">\n",
       "  <tr>\n",
       "    <th> Previous Hypothesis</th>\n",
       "    <th> Current Hypothesis </th>\n",
       "  </tr>\n",
       "  <tr>\n",
       "    <td><?xml version=\"1.0\" encoding=\"UTF-8\" standalone=\"no\"?><!DOCTYPE svg PUBLIC \"-//W3C//DTD SVG 1.1//EN\" \"http://www.w3.org/Graphics/SVG/1.1/DTD/svg11.dtd\"><!-- Generated by graphviz version 2.38.0 (20140413.2041) --><!-- Title: %3 Pages: 1 --><svg width=\"99pt\" height=\"297pt\" viewBox=\"0.00 0.00 99.00 297.00\" xmlns=\"http://www.w3.org/2000/svg\" xmlns:xlink=\"http://www.w3.org/1999/xlink\"><g id=\"graph0\" class=\"graph\" transform=\"scale(1 1) rotate(0) translate(4 293)\"><title>%3</title><polygon fill=\"white\" stroke=\"none\" points=\"-4,4 -4,-293 95,-293 95,4 -4,4\"/><!-- 0 --><g id=\"node1\" class=\"node\"><title>0</title><ellipse fill=\"orangered\" stroke=\"black\" cx=\"48\" cy=\"-198\" rx=\"18\" ry=\"18\"/><text text-anchor=\"middle\" x=\"48\" y=\"-193.8\" font-family=\"Times,serif\" font-size=\"14.00\">0</text></g><!-- 0&#45;&gt;0 --><g id=\"edge2\" class=\"edge\"><title>0&#45;&gt;0</title><path fill=\"none\" stroke=\"black\" d=\"M65.0373,-204.379C74.8579,-205.681 84,-203.555 84,-198 84,-194.528 80.4289,-192.396 75.3529,-191.602\"/><polygon fill=\"black\" stroke=\"black\" points=\"75.031,-188.103 65.0373,-191.621 75.0435,-195.103 75.031,-188.103\"/><text text-anchor=\"middle\" x=\"87.5\" y=\"-193.8\" font-family=\"Times,serif\" font-size=\"14.00\">1</text></g><!-- 1 --><g id=\"node2\" class=\"node\"><title>1</title><ellipse fill=\"none\" stroke=\"black\" cx=\"18\" cy=\"-112\" rx=\"18\" ry=\"18\"/><text text-anchor=\"middle\" x=\"18\" y=\"-107.8\" font-family=\"Times,serif\" font-size=\"14.00\">1</text></g><!-- 0&#45;&gt;1 --><g id=\"edge1\" class=\"edge\"><title>0&#45;&gt;1</title><path fill=\"none\" stroke=\"black\" d=\"M35.6956,-184.844C30.1677,-178.577 24.1826,-170.478 21,-162 18.4643,-155.245 17.2776,-147.599 16.825,-140.391\"/><polygon fill=\"black\" stroke=\"black\" points=\"20.3223,-140.222 16.6154,-130.296 13.3238,-140.367 20.3223,-140.222\"/><text text-anchor=\"middle\" x=\"24.5\" y=\"-150.8\" font-family=\"Times,serif\" font-size=\"14.00\">0</text></g><!-- 1&#45;&gt;0 --><g id=\"edge3\" class=\"edge\"><title>1&#45;&gt;0</title><path fill=\"none\" stroke=\"black\" d=\"M23.7665,-129.146C27.9953,-140.987 33.8265,-157.314 38.7091,-170.985\"/><polygon fill=\"black\" stroke=\"black\" points=\"35.5562,-172.564 42.2157,-180.804 42.1484,-170.209 35.5562,-172.564\"/><text text-anchor=\"middle\" x=\"38.5\" y=\"-150.8\" font-family=\"Times,serif\" font-size=\"14.00\">0</text></g><!-- 2 --><g id=\"node3\" class=\"node\"><title>2</title><ellipse fill=\"none\" stroke=\"black\" cx=\"48\" cy=\"-22\" rx=\"18\" ry=\"18\"/><ellipse fill=\"none\" stroke=\"black\" cx=\"48\" cy=\"-22\" rx=\"22\" ry=\"22\"/><text text-anchor=\"middle\" x=\"48\" y=\"-17.8\" font-family=\"Times,serif\" font-size=\"14.00\">2</text></g><!-- 1&#45;&gt;2 --><g id=\"edge4\" class=\"edge\"><title>1&#45;&gt;2</title><path fill=\"none\" stroke=\"black\" d=\"M16.8168,-93.7763C16.7045,-84.1764 17.4862,-72.1477 21,-62 22.7405,-56.9735 25.3217,-52.0006 28.2084,-47.3743\"/><polygon fill=\"black\" stroke=\"black\" points=\"31.2,-49.2013 33.9957,-38.982 25.4373,-45.2274 31.2,-49.2013\"/><text text-anchor=\"middle\" x=\"24.5\" y=\"-64.8\" font-family=\"Times,serif\" font-size=\"14.00\">1</text></g><!-- 2&#45;&gt;0 --><g id=\"edge5\" class=\"edge\"><title>2&#45;&gt;0</title><path fill=\"none\" stroke=\"black\" d=\"M48,-44.0981C48,-75.5795 48,-134.86 48,-169.636\"/><polygon fill=\"black\" stroke=\"black\" points=\"44.5001,-169.999 48,-179.999 51.5001,-169.999 44.5001,-169.999\"/><text text-anchor=\"middle\" x=\"51.5\" y=\"-107.8\" font-family=\"Times,serif\" font-size=\"14.00\">0</text></g><!-- 2&#45;&gt;1 --><g id=\"edge6\" class=\"edge\"><title>2&#45;&gt;1</title><path fill=\"none\" stroke=\"black\" d=\"M41.1632,-43.0546C36.9013,-55.5562 31.3751,-71.7665 26.7893,-85.2179\"/><polygon fill=\"black\" stroke=\"black\" points=\"23.4165,-84.265 23.5025,-94.8594 30.0421,-86.5237 23.4165,-84.265\"/><text text-anchor=\"middle\" x=\"37.5\" y=\"-64.8\" font-family=\"Times,serif\" font-size=\"14.00\">1</text></g><!-- 3 --><g id=\"node4\" class=\"node\"><title>3</title></g><!-- 3&#45;&gt;0 --><g id=\"edge7\" class=\"edge\"><title>3&#45;&gt;0</title><path fill=\"none\" stroke=\"black\" d=\"M48,-252.813C48,-244.789 48,-235.047 48,-226.069\"/><polygon fill=\"black\" stroke=\"black\" points=\"51.5001,-226.029 48,-216.029 44.5001,-226.029 51.5001,-226.029\"/></g></g></svg></td>\n",
       "    <td><?xml version=\"1.0\" encoding=\"UTF-8\" standalone=\"no\"?><!DOCTYPE svg PUBLIC \"-//W3C//DTD SVG 1.1//EN\" \"http://www.w3.org/Graphics/SVG/1.1/DTD/svg11.dtd\"><!-- Generated by graphviz version 2.38.0 (20140413.2041) --><!-- Title: %3 Pages: 1 --><svg width=\"103pt\" height=\"383pt\" viewBox=\"0.00 0.00 103.00 383.00\" xmlns=\"http://www.w3.org/2000/svg\" xmlns:xlink=\"http://www.w3.org/1999/xlink\"><g id=\"graph0\" class=\"graph\" transform=\"scale(1 1) rotate(0) translate(4 379)\"><title>%3</title><polygon fill=\"white\" stroke=\"none\" points=\"-4,4 -4,-379 99,-379 99,4 -4,4\"/><!-- 0 --><g id=\"node1\" class=\"node\"><title>0</title><ellipse fill=\"orangered\" stroke=\"black\" cx=\"62\" cy=\"-284\" rx=\"18\" ry=\"18\"/><text text-anchor=\"middle\" x=\"62\" y=\"-279.8\" font-family=\"Times,serif\" font-size=\"14.00\">0</text></g><!-- 1 --><g id=\"node2\" class=\"node\"><title>1</title><ellipse fill=\"none\" stroke=\"black\" cx=\"24\" cy=\"-198\" rx=\"18\" ry=\"18\"/><text text-anchor=\"middle\" x=\"24\" y=\"-193.8\" font-family=\"Times,serif\" font-size=\"14.00\">1</text></g><!-- 0&#45;&gt;1 --><g id=\"edge1\" class=\"edge\"><title>0&#45;&gt;1</title><path fill=\"none\" stroke=\"black\" d=\"M46.8481,-273.671C38.4084,-267.537 28.6823,-258.678 24,-248 21.0279,-241.222 20.0759,-233.392 20.1143,-226.007\"/><polygon fill=\"black\" stroke=\"black\" points=\"23.608,-226.214 20.7205,-216.021 16.6209,-225.79 23.608,-226.214\"/><text text-anchor=\"middle\" x=\"27.5\" y=\"-236.8\" font-family=\"Times,serif\" font-size=\"14.00\">0</text></g><!-- 3 --><g id=\"node3\" class=\"node\"><title>3</title><ellipse fill=\"skyblue\" stroke=\"black\" cx=\"62\" cy=\"-18\" rx=\"18\" ry=\"18\"/><text text-anchor=\"middle\" x=\"62\" y=\"-13.8\" font-family=\"Times,serif\" font-size=\"14.00\">3</text></g><!-- 0&#45;&gt;3 --><g id=\"edge2\" class=\"edge\"><title>0&#45;&gt;3</title><path fill=\"none\" stroke=\"black\" d=\"M62,-265.678C62,-220.819 62,-100.581 62,-46.2802\"/><polygon fill=\"black\" stroke=\"black\" points=\"65.5001,-46.0423 62,-36.0424 58.5001,-46.0424 65.5001,-46.0423\"/><text text-anchor=\"middle\" x=\"65.5\" y=\"-150.8\" font-family=\"Times,serif\" font-size=\"14.00\">1</text></g><!-- 1&#45;&gt;0 --><g id=\"edge3\" class=\"edge\"><title>1&#45;&gt;0</title><path fill=\"none\" stroke=\"black\" d=\"M31.1155,-214.729C36.6268,-226.912 44.3674,-244.023 50.7204,-258.066\"/><polygon fill=\"black\" stroke=\"black\" points=\"47.5419,-259.532 54.8525,-267.2 53.9196,-256.647 47.5419,-259.532\"/><text text-anchor=\"middle\" x=\"49.5\" y=\"-236.8\" font-family=\"Times,serif\" font-size=\"14.00\">0</text></g><!-- 2 --><g id=\"node4\" class=\"node\"><title>2</title><ellipse fill=\"none\" stroke=\"black\" cx=\"22\" cy=\"-108\" rx=\"18\" ry=\"18\"/><ellipse fill=\"none\" stroke=\"black\" cx=\"22\" cy=\"-108\" rx=\"22\" ry=\"22\"/><text text-anchor=\"middle\" x=\"22\" y=\"-103.8\" font-family=\"Times,serif\" font-size=\"14.00\">2</text></g><!-- 1&#45;&gt;2 --><g id=\"edge4\" class=\"edge\"><title>1&#45;&gt;2</title><path fill=\"none\" stroke=\"black\" d=\"M14.9834,-182.22C11.7956,-176.178 8.60508,-168.978 7,-162 5.16123,-154.006 6.23895,-145.418 8.48508,-137.532\"/><polygon fill=\"black\" stroke=\"black\" points=\"11.8156,-138.611 11.8235,-128.016 5.2103,-136.294 11.8156,-138.611\"/><text text-anchor=\"middle\" x=\"10.5\" y=\"-150.8\" font-family=\"Times,serif\" font-size=\"14.00\">1</text></g><!-- 3&#45;&gt;0 --><g id=\"edge8\" class=\"edge\"><title>3&#45;&gt;0</title><path fill=\"none\" stroke=\"black\" d=\"M69.733,-34.6425C72.2587,-40.5573 74.7376,-47.4451 76,-54 92.3053,-138.666 92.3053,-163.334 76,-248 75.3688,-251.277 74.4335,-254.638 73.3403,-257.919\"/><polygon fill=\"black\" stroke=\"black\" points=\"70.0336,-256.767 69.733,-267.358 76.5724,-259.266 70.0336,-256.767\"/><text text-anchor=\"middle\" x=\"91.5\" y=\"-150.8\" font-family=\"Times,serif\" font-size=\"14.00\">1</text></g><!-- 3&#45;&gt;2 --><g id=\"edge7\" class=\"edge\"><title>3&#45;&gt;2</title><path fill=\"none\" stroke=\"black\" d=\"M54.8791,-34.6661C49.4301,-46.6537 41.7618,-63.524 35.2013,-77.9571\"/><polygon fill=\"black\" stroke=\"black\" points=\"31.8291,-76.9179 30.8773,-87.4699 38.2017,-79.8146 31.8291,-76.9179\"/><text text-anchor=\"middle\" x=\"49.5\" y=\"-56.8\" font-family=\"Times,serif\" font-size=\"14.00\">0</text></g><!-- 2&#45;&gt;1 --><g id=\"edge6\" class=\"edge\"><title>2&#45;&gt;1</title><path fill=\"none\" stroke=\"black\" d=\"M22.479,-130.075C22.7479,-141.905 23.0865,-156.805 23.3759,-169.54\"/><polygon fill=\"black\" stroke=\"black\" points=\"19.8785,-169.696 23.6049,-179.614 26.8766,-169.537 19.8785,-169.696\"/><text text-anchor=\"middle\" x=\"27.5\" y=\"-150.8\" font-family=\"Times,serif\" font-size=\"14.00\">1</text></g><!-- 2&#45;&gt;3 --><g id=\"edge5\" class=\"edge\"><title>2&#45;&gt;3</title><path fill=\"none\" stroke=\"black\" d=\"M19.1503,-86.0023C18.6695,-75.8981 19.4499,-63.8667 24,-54 27.357,-46.7206 33.0016,-40.258 38.9274,-34.9291\"/><polygon fill=\"black\" stroke=\"black\" points=\"41.4264,-37.409 46.9939,-28.3949 37.0203,-31.9697 41.4264,-37.409\"/><text text-anchor=\"middle\" x=\"27.5\" y=\"-56.8\" font-family=\"Times,serif\" font-size=\"14.00\">0</text></g><!-- 4 --><g id=\"node5\" class=\"node\"><title>4</title></g><!-- 4&#45;&gt;0 --><g id=\"edge9\" class=\"edge\"><title>4&#45;&gt;0</title><path fill=\"none\" stroke=\"black\" d=\"M62,-338.813C62,-330.789 62,-321.047 62,-312.069\"/><polygon fill=\"black\" stroke=\"black\" points=\"65.5001,-312.029 62,-302.029 58.5001,-312.029 65.5001,-312.029\"/></g></g></svg></td>\n",
       "  </tr>\n",
       "</table>"
      ]
     },
     "execution_count": 15,
     "metadata": {},
     "output_type": "execute_result"
    }
   ],
   "source": [
    "import roll.query.CE\n",
    "l1.refineHypothesis(CE.withAlphabet(alphabet).finite(\"bab\"))"
   ]
  }
 ],
 "metadata": {
  "kernelspec": {
   "display_name": "Groovy",
   "language": "groovy",
   "name": "groovy"
  },
  "language_info": {
   "codemirror_mode": "groovy",
   "file_extension": ".groovy",
   "mimetype": "",
   "name": "Groovy",
   "nbconverter_exporter": "",
   "version": "2.4.3"
  }
 },
 "nbformat": 4,
 "nbformat_minor": 2
}
